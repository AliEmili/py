{
 "cells": [
  {
   "cell_type": "code",
   "execution_count": 2,
   "id": "fe36820b",
   "metadata": {},
   "outputs": [
    {
     "name": "stderr",
     "output_type": "stream",
     "text": [
      "ERROR: Could not find a version that satisfies the requirement tenserflow (from versions: none)\n",
      "ERROR: No matching distribution found for tenserflow\n"
     ]
    }
   ],
   "source": [
    "!pip install tenserflow"
   ]
  },
  {
   "cell_type": "code",
   "execution_count": 16,
   "id": "7d6473cc",
   "metadata": {},
   "outputs": [],
   "source": [
    "\n",
    "\n",
    "\n",
    "import pandas as pd\n",
    "#from sklearn.metrics import plot_confusion_matrix\n",
    "#import matplotlib.pyplot as plt\n",
    "\n",
    "from sklearn.neural_network import MLPClassifier\n",
    "#from sklearn.datasets import make_classification\n",
    "\n",
    "#url=\"https://archive.ics.uci.edu/ml/machine-learning-databases/iris/iris.data\"\n",
    "#colnames=['sepal-length','sepal-width','petal-length','petal-width','clases']\n",
    "#irisdata = pd.read_csv(url, names=colnames )"
   ]
  },
  {
   "cell_type": "code",
   "execution_count": 17,
   "id": "249a6402",
   "metadata": {},
   "outputs": [
    {
     "data": {
      "text/plain": [
       "29         Setosa\n",
       "85     Versicolor\n",
       "126     Virginica\n",
       "103     Virginica\n",
       "34         Setosa\n",
       "          ...    \n",
       "62     Versicolor\n",
       "5          Setosa\n",
       "75     Versicolor\n",
       "66     Versicolor\n",
       "44         Setosa\n",
       "Name: variety, Length: 105, dtype: object"
      ]
     },
     "execution_count": 17,
     "metadata": {},
     "output_type": "execute_result"
    }
   ],
   "source": [
    "irisdata = pd.read_csv('./iris.csv' )\n",
    "x= irisdata.drop('variety', axis =1)\n",
    "y=irisdata['variety']\n",
    "\n",
    "from sklearn.model_selection import train_test_split\n",
    "x_train,x_test,y_train,y_test=train_test_split(x,y,test_size=0.30)\n",
    "y_train"
   ]
  },
  {
   "cell_type": "code",
   "execution_count": 18,
   "id": "994ff71e",
   "metadata": {},
   "outputs": [
    {
     "name": "stdout",
     "output_type": "stream",
     "text": [
      "[[ 9  0  0]\n",
      " [ 0 14  1]\n",
      " [ 0  0 21]]\n",
      "              precision    recall  f1-score   support\n",
      "\n",
      "      Setosa       1.00      1.00      1.00         9\n",
      "  Versicolor       1.00      0.93      0.97        15\n",
      "   Virginica       0.95      1.00      0.98        21\n",
      "\n",
      "    accuracy                           0.98        45\n",
      "   macro avg       0.98      0.98      0.98        45\n",
      "weighted avg       0.98      0.98      0.98        45\n",
      "\n"
     ]
    }
   ],
   "source": [
    "\n",
    "mlp = MLPClassifier(hidden_layer_sizes=(100,50 ), \n",
    "                    max_iter=1000, \n",
    "                    alpha=1e-4,\n",
    "                    solver='lbfgs', \n",
    "                    tol=1e-4, \n",
    "                    random_state=1,\n",
    "                    verbose=1,\n",
    "                     activation='identity',\n",
    "                    learning_rate_init=.1)\n",
    "\n",
    "\n",
    "mlp.fit(x_train, y_train.ravel())\n",
    "\n",
    "y_pred=mlp.predict((x_test))\n",
    "\n",
    "from sklearn.metrics import classification_report, confusion_matrix\n",
    "print(confusion_matrix(y_test,y_pred))\n",
    "print(classification_report(y_test,y_pred))"
   ]
  },
  {
   "cell_type": "code",
   "execution_count": null,
   "id": "742295dd",
   "metadata": {},
   "outputs": [],
   "source": []
  }
 ],
 "metadata": {
  "kernelspec": {
   "display_name": "Python 3 (ipykernel)",
   "language": "python",
   "name": "python3"
  },
  "language_info": {
   "codemirror_mode": {
    "name": "ipython",
    "version": 3
   },
   "file_extension": ".py",
   "mimetype": "text/x-python",
   "name": "python",
   "nbconvert_exporter": "python",
   "pygments_lexer": "ipython3",
   "version": "3.9.12"
  }
 },
 "nbformat": 4,
 "nbformat_minor": 5
}
