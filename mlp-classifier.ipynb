{
 "cells": [
  {
   "cell_type": "code",
   "execution_count": 1,
   "id": "5aba32b4",
   "metadata": {},
   "outputs": [
    {
     "ename": "ImportError",
     "evalue": "cannot import name 'ml' from 'sklearn.neural_network' (C:\\Users\\Emili\\anaconda3\\lib\\site-packages\\sklearn\\neural_network\\__init__.py)",
     "output_type": "error",
     "traceback": [
      "\u001b[1;31m---------------------------------------------------------------------------\u001b[0m",
      "\u001b[1;31mImportError\u001b[0m                               Traceback (most recent call last)",
      "Input \u001b[1;32mIn [1]\u001b[0m, in \u001b[0;36m<cell line: 2>\u001b[1;34m()\u001b[0m\n\u001b[0;32m      1\u001b[0m \u001b[38;5;28;01mimport\u001b[39;00m \u001b[38;5;21;01mpandas\u001b[39;00m \u001b[38;5;28;01mas\u001b[39;00m \u001b[38;5;21;01mpd\u001b[39;00m\n\u001b[1;32m----> 2\u001b[0m \u001b[38;5;28;01mfrom\u001b[39;00m \u001b[38;5;21;01msklearn\u001b[39;00m\u001b[38;5;21;01m.\u001b[39;00m\u001b[38;5;21;01mneural_network\u001b[39;00m \u001b[38;5;28;01mimport\u001b[39;00m ml\n",
      "\u001b[1;31mImportError\u001b[0m: cannot import name 'ml' from 'sklearn.neural_network' (C:\\Users\\Emili\\anaconda3\\lib\\site-packages\\sklearn\\neural_network\\__init__.py)"
     ]
    }
   ],
   "source": [
    "import pandas as pd\n",
    "from sklearn.neural_network import ml"
   ]
  },
  {
   "cell_type": "code",
   "execution_count": null,
   "id": "0e688e7b",
   "metadata": {},
   "outputs": [],
   "source": [
    "iris = pd.read_csv(\"./iris.cs\")\n",
    "x = iris.drop(\"variety\", axis = 1)\n",
    "y = iris[\"variety\"]\n",
    "\n",
    "from sklearn.mode_selection"
   ]
  },
  {
   "cell_type": "code",
   "execution_count": null,
   "id": "46eb8d6e",
   "metadata": {},
   "outputs": [],
   "source": [
    "mlp = MLPClassifier(hidden_layer_sizes = (100, 50),\n",
    "                   max_iter=1000,\n",
    "                    alpha=1e-4,\n",
    "                    solver='lbfgs',\n",
    "                    learning_rate_init=.1\n",
    "                   ) # 2 layers with 100 and 50 neurons in it"
   ]
  }
 ],
 "metadata": {
  "kernelspec": {
   "display_name": "Python 3 (ipykernel)",
   "language": "python",
   "name": "python3"
  },
  "language_info": {
   "codemirror_mode": {
    "name": "ipython",
    "version": 3
   },
   "file_extension": ".py",
   "mimetype": "text/x-python",
   "name": "python",
   "nbconvert_exporter": "python",
   "pygments_lexer": "ipython3",
   "version": "3.9.12"
  }
 },
 "nbformat": 4,
 "nbformat_minor": 5
}
